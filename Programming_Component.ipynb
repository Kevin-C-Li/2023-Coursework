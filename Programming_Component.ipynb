{
 "cells": [
  {
   "attachments": {},
   "cell_type": "markdown",
   "metadata": {},
   "source": [
    "<h1>Naive Bayes Classifier</h1>"
   ]
  },
  {
   "cell_type": "code",
   "execution_count": 1,
   "metadata": {},
   "outputs": [],
   "source": [
    "import numpy as np\n",
    "import pandas as pd\n",
    "import math\n",
    "import time\n",
    "import warnings\n",
    "from sklearn.model_selection import train_test_split\n",
    "warnings.filterwarnings(\"ignore\")"
   ]
  },
  {
   "attachments": {},
   "cell_type": "markdown",
   "metadata": {},
   "source": [
    "<h2>Input and Model Splitting</h2>"
   ]
  },
  {
   "cell_type": "code",
   "execution_count": 2,
   "metadata": {},
   "outputs": [
    {
     "name": "stdout",
     "output_type": "stream",
     "text": [
      "File input and partition completed in 0.3440842628479004 seconds\n"
     ]
    }
   ],
   "source": [
    "t1 = time.time()\n",
    "mtx_arr = np.zeros((2225, 9635), dtype=np.float16)\n",
    "with open('bbc.mtx', 'r') as mtx:\n",
    "    next(mtx)\n",
    "    next(mtx)\n",
    "    for line in mtx:\n",
    "        line = line[:-1]\n",
    "        val = line.split()\n",
    "        mtx_arr[int(val[1])-1][int(val[0])-1] = float(val[2])\n",
    "\n",
    "actual_class = np.empty(shape=(2225, 1), dtype=int)\n",
    "with open('bbc.classes', 'r') as classes:\n",
    "    next(classes)\n",
    "    next(classes)\n",
    "    next(classes)\n",
    "    next(classes)\n",
    "    for line in classes:\n",
    "        line = line[:-1]\n",
    "        val = [int(i) for i in line.split()]\n",
    "        actual_class[val[0]][0] = val[1]\n",
    "\n",
    "t2 = time.time()\n",
    "X_train, X_test, Y_train, Y_test = train_test_split(mtx_arr, actual_class, random_state=12345)\n",
    "print(\"File input and partition completed in\", t2-t1, \"seconds\")"
   ]
  },
  {
   "attachments": {},
   "cell_type": "markdown",
   "metadata": {},
   "source": [
    "<h2>Naive Bayes Classifier Training</h2>"
   ]
  },
  {
   "cell_type": "code",
   "execution_count": 3,
   "metadata": {},
   "outputs": [],
   "source": [
    "def find_prob_classifier(x, y):\n",
    "    # Compute P(x_i|c) for all x_i in x while adjusting for 0 probabilities\n",
    "    # Compute P(c = i), 0 <= i <= 4 \n",
    "    # Compute P(x_i) for all columns in x\n",
    "    prob_c = []\n",
    "    prob_xic = []\n",
    "    prob_xi = []\n",
    "    lst_x = [row.tolist() for row in x]\n",
    "    lst_y = [row.tolist() for row in y]\n",
    "    for i in range(5):\n",
    "        class_i = list(map(lambda n: n==[i], lst_y))\n",
    "        total = sum([int(val) for val in class_i])\n",
    "        cond = [0] * np.shape(x)[1]\n",
    "        for j in range(np.size(y)):\n",
    "            if class_i[j]:\n",
    "                for k in range(len(lst_x[j])):\n",
    "                    cond[k]+=min(lst_x[j][k], 1.0)\n",
    "        prob_xic.append([(i+1)/(total+2) for i in cond])\n",
    "        total = total/np.size(y)\n",
    "        prob_c.append(total)\n",
    "        \n",
    "    lst_xt = [row.tolist() for row in x.T]\n",
    "    for i in lst_xt:\n",
    "        bin_i = list(map(lambda x: not math.isclose(x, 0.0, rel_tol=0.1), i))\n",
    "        prob = sum([int(val) for val in bin_i])/np.shape(x)[0]\n",
    "        prob_xi.append(prob)\n",
    "    return (prob_xic, prob_c, prob_xi)\n",
    "        "
   ]
  },
  {
   "attachments": {},
   "cell_type": "markdown",
   "metadata": {},
   "source": [
    "<h2>Prediction Function</h2>"
   ]
  },
  {
   "cell_type": "code",
   "execution_count": 4,
   "metadata": {},
   "outputs": [],
   "source": [
    "def predict(prob_xic, prob_c, prob_xi, point):\n",
    "    prob_list = []\n",
    "    for i in range(5):\n",
    "        prob_cxi = math.log2(prob_c[i])\n",
    "        bin_point = list(map(lambda x: math.isclose(x, 0.0, rel_tol=0.1), point))\n",
    "        prob_x = 0\n",
    "        for j in range(len(point)):\n",
    "            if not bin_point[j]:\n",
    "                prob_cxi = prob_cxi + math.log2(prob_xic[i][j])\n",
    "                prob_x += prob_xi[j]\n",
    "        prob_cxi = prob_cxi - math.log2(prob_x)\n",
    "        prob_list.append(prob_cxi)\n",
    "\n",
    "    return prob_list\n"
   ]
  },
  {
   "attachments": {},
   "cell_type": "markdown",
   "metadata": {},
   "source": [
    "<h2>Train Bayes Classifier</h2>"
   ]
  },
  {
   "cell_type": "code",
   "execution_count": 5,
   "metadata": {},
   "outputs": [
    {
     "name": "stdout",
     "output_type": "stream",
     "text": [
      "Training Naive Bayes classifier completed in 6.60952353477478 seconds\n"
     ]
    }
   ],
   "source": [
    "t1 = time.time()\n",
    "prob_xic, prob_c, prob_xi = find_prob_classifier(X_train, Y_train)\n",
    "t2 = time.time()\n",
    "print(\"Training Naive Bayes classifier completed in\", t2-t1, \"seconds\")\n"
   ]
  },
  {
   "attachments": {},
   "cell_type": "markdown",
   "metadata": {},
   "source": [
    "<h2>Error Rate Computation</h2>"
   ]
  },
  {
   "cell_type": "code",
   "execution_count": 6,
   "metadata": {},
   "outputs": [
    {
     "name": "stdout",
     "output_type": "stream",
     "text": [
      "Accuracy of classifier on training dataset 0.9574340527577938\n",
      "Accuracy of classifier on test dataset:  0.9174147217235189\n",
      "Testing Naive Bayes classifier completed in 22.666558742523193 seconds\n"
     ]
    }
   ],
   "source": [
    "t1 = time.time()\n",
    "X_test_error = 0\n",
    "X_train_error = 0\n",
    "for i in range(np.shape(X_test)[0]):\n",
    "    pred = predict(prob_xic, prob_c, prob_xi, X_test[i])\n",
    "    if pred.index(max(pred)) != Y_test[i]:\n",
    "        X_test_error += 1\n",
    "for i in range(np.shape(X_train)[0]):\n",
    "    pred = predict(prob_xic, prob_c, prob_xi, X_train[i])\n",
    "    if pred.index(max(pred)) != Y_train[i]:\n",
    "        X_train_error += 1\n",
    "\n",
    "print(\"Accuracy of classifier on training dataset\", 1-(X_train_error/np.shape(X_train)[0]))\n",
    "print(\"Accuracy of classifier on test dataset: \", 1-(X_test_error/np.shape(X_test)[0]))\n",
    "t2 = time.time()\n",
    "print(\"Testing Naive Bayes classifier completed in\", t2-t1, \"seconds\")"
   ]
  },
  {
   "attachments": {},
   "cell_type": "markdown",
   "metadata": {},
   "source": [
    "<h1>Gaussian Classifier</h1>"
   ]
  },
  {
   "attachments": {},
   "cell_type": "markdown",
   "metadata": {},
   "source": [
    "<h2>Finding Covariance Matrix</h2>"
   ]
  },
  {
   "cell_type": "code",
   "execution_count": 7,
   "metadata": {},
   "outputs": [],
   "source": [
    "def covar(x, y):\n",
    "    return np.sum(x*y)/(len(x)-1)\n",
    "\n",
    "def train_gaussian(x, y):\n",
    "    # Finds the diagonal of the covariance matrix\n",
    "    # Assumes the correlation of features is 0\n",
    "    lst_x = [row.tolist() for row in x]\n",
    "    lst_xt = [row.tolist() for row in x.T]\n",
    "    lst_y = [row.tolist() for row in y]\n",
    "    size_x = np.shape(x)[0]\n",
    "    mu = []\n",
    "    for i in range(5):\n",
    "        class_i = list(map(lambda n: n==[i], lst_y))\n",
    "        mu_i = [0] * np.shape(x)[1]\n",
    "        lst_xi = []\n",
    "        # Compute mean \n",
    "        for j in range(np.size(y)):\n",
    "            if class_i[j]:\n",
    "                lst_xi.append(lst_xt[j])\n",
    "                for k in range(len(lst_x[j])):\n",
    "                    mu_i[k]+=(lst_x[j][k]/size_x)\n",
    "        \n",
    "        mu.append(mu_i)\n",
    "    # Find variance\n",
    "    cov = np.zeros([len(lst_xt), len(lst_xt)])\n",
    " \n",
    "    for i in range(len(lst_xt)):\n",
    "        lst_xt[i] = lst_xt[i]-np.mean(lst_xt[i])\n",
    "\n",
    "    for i in range(len(lst_xt)):\n",
    "        cov[i][i] = covar(lst_xt[i], lst_xt[i]) + 0.000000001\n",
    "    return (mu, cov)"
   ]
  },
  {
   "cell_type": "code",
   "execution_count": 8,
   "metadata": {},
   "outputs": [
    {
     "name": "stdout",
     "output_type": "stream",
     "text": [
      "Training Gaussian classifier completed in 17.348944902420044 seconds\n"
     ]
    }
   ],
   "source": [
    "t1 = time.time()\n",
    "mu, cov = train_gaussian(X_train, Y_train)\n",
    "inv_cov = np.linalg.inv(cov)\n",
    "t2 = time.time()\n",
    "print(\"Training Gaussian classifier completed in\", t2-t1, \"seconds\")"
   ]
  },
  {
   "cell_type": "code",
   "execution_count": 9,
   "metadata": {},
   "outputs": [],
   "source": [
    "def gauss_predict(prob_c, mu, inv_cov, point):\n",
    "    # Predicts datapoint using Gaussian Class Conditionals\n",
    "    # Computes the log joint pdf of every possible classification\n",
    "    pred = []\n",
    "    for i in range(5):\n",
    "        logpdf = -0.5 * (point-mu[i]) @ inv_cov @ (point-mu[i])\n",
    "        logpdf += math.log(prob_c[i])\n",
    "        pred.append(logpdf)\n",
    "\n",
    "    return pred\n"
   ]
  },
  {
   "cell_type": "code",
   "execution_count": 10,
   "metadata": {},
   "outputs": [
    {
     "name": "stdout",
     "output_type": "stream",
     "text": [
      "Accuracy of classifier on training dataset 0.9892086330935251\n",
      "Accuracy of classifier on test dataset:  0.9712746858168761\n",
      "Testing Gaussian classifier completed in 300.52689003944397 seconds\n"
     ]
    }
   ],
   "source": [
    "t1 = time.time()\n",
    "X_test_error = 0\n",
    "X_train_error = 0\n",
    "for i in range(np.shape(X_test)[0]):\n",
    "    pred = gauss_predict(prob_c, mu, inv_cov, X_test[i])\n",
    "    if pred.index(max(pred)) != Y_test[i]:\n",
    "        X_test_error += 1\n",
    "for i in range(np.shape(X_train)[0]):\n",
    "    pred = gauss_predict(prob_c, mu, inv_cov, X_train[i])\n",
    "    if pred.index(max(pred)) != Y_train[i]:\n",
    "        X_train_error += 1\n",
    "\n",
    "print(\"Accuracy of classifier on training dataset\", 1-(X_train_error/np.shape(X_train)[0]))\n",
    "print(\"Accuracy of classifier on test dataset: \", 1-(X_test_error/np.shape(X_test)[0]))\n",
    "t2 = time.time()\n",
    "print(\"Testing Gaussian classifier completed in\", t2-t1, \"seconds\")"
   ]
  },
  {
   "attachments": {},
   "cell_type": "markdown",
   "metadata": {},
   "source": [
    "<h1>k-Nearest Neighbors Classification</h1>"
   ]
  },
  {
   "cell_type": "code",
   "execution_count": 11,
   "metadata": {},
   "outputs": [],
   "source": [
    "import heapq\n",
    "def kNN(XY_arr, point, k):\n",
    "    dist = lambda x: np.sum((x-point)**2)\n",
    "    heap = []\n",
    "    for i in range(len(XY_arr)):\n",
    "        d = dist(XY_arr[i][1:])\n",
    "        if(len(heap) < k):\n",
    "            heapq.heappush(heap, (-d, i))\n",
    "        else:\n",
    "            if -d > heap[0][0]:\n",
    "                heapq.heappop(heap)\n",
    "                heapq.heappush(heap, (-d, i))\n",
    "    \n",
    "    k_nearest = []\n",
    "    for i in heap:\n",
    "        k_nearest.append(XY_arr[i[1]][0])\n",
    "    return k_nearest\n",
    "\n",
    "def counter(k_nearest):\n",
    "    count = []\n",
    "    for i in range(5):\n",
    "        count.append(k_nearest.count(i))\n",
    "    return count.index(max(count))"
   ]
  },
  {
   "cell_type": "code",
   "execution_count": 13,
   "metadata": {},
   "outputs": [
    {
     "name": "stdout",
     "output_type": "stream",
     "text": [
      "Accuracy of classifier on training dataset (k=1) 1.0\n",
      "Accuracy of classifier on test dataset (k=1):  0.7719928186714542\n",
      "Testing k=1 nearest neighbors classifier completed in 137.34357976913452 seconds\n",
      "Accuracy of classifier on training dataset (k=3) 0.8836930455635492\n",
      "Accuracy of classifier on test dataset (k=3):  0.7360861759425494\n",
      "Testing k=3 nearest neighbors classifier completed in 137.4279887676239 seconds\n",
      "Accuracy of classifier on training dataset (k=6) 0.7236211031175059\n",
      "Accuracy of classifier on test dataset (k=6):  0.63016157989228\n",
      "Testing k=6 nearest neighbors classifier completed in 137.30616307258606 seconds\n"
     ]
    }
   ],
   "source": [
    "XY_train = np.hstack((Y_train, X_train))\n",
    "t1 = time.time()\n",
    "X_test_error = 0\n",
    "X_train_error = 0\n",
    "for i in range(np.shape(X_test)[0]):\n",
    "    pred = counter(kNN(XY_train, X_test[i], 1))\n",
    "    if pred != Y_test[i]:\n",
    "        X_test_error += 1\n",
    "for i in range(np.shape(X_train)[0]):\n",
    "    pred = counter(kNN(XY_train, X_train[i], 1))\n",
    "    if pred != Y_train[i]:\n",
    "        X_train_error += 1\n",
    "\n",
    "print(\"Accuracy of classifier on training dataset (k=1)\", 1-(X_train_error/np.shape(X_train)[0]))\n",
    "print(\"Accuracy of classifier on test dataset (k=1): \", 1-(X_test_error/np.shape(X_test)[0]))\n",
    "t2 = time.time()\n",
    "print(\"Testing k=1 nearest neighbors classifier completed in\", t2-t1, \"seconds\")\n",
    "\n",
    "t1 = time.time()\n",
    "X_test_error = 0\n",
    "X_train_error = 0\n",
    "for i in range(np.shape(X_test)[0]):\n",
    "    pred = counter(kNN(XY_train, X_test[i], 3))\n",
    "    if pred != Y_test[i]:\n",
    "        X_test_error += 1\n",
    "for i in range(np.shape(X_train)[0]):\n",
    "    pred = counter(kNN(XY_train, X_train[i], 3))\n",
    "    if pred != Y_train[i]:\n",
    "        X_train_error += 1\n",
    "\n",
    "print(\"Accuracy of classifier on training dataset (k=3)\", 1-(X_train_error/np.shape(X_train)[0]))\n",
    "print(\"Accuracy of classifier on test dataset (k=3): \", 1-(X_test_error/np.shape(X_test)[0]))\n",
    "t2 = time.time()\n",
    "print(\"Testing k=3 nearest neighbors classifier completed in\", t2-t1, \"seconds\")\n",
    "\n",
    "t1 = time.time()\n",
    "X_test_error = 0\n",
    "X_train_error = 0\n",
    "for i in range(np.shape(X_test)[0]):\n",
    "    pred = counter(kNN(XY_train, X_test[i], 6))\n",
    "    if pred != Y_test[i]:\n",
    "        X_test_error += 1\n",
    "for i in range(np.shape(X_train)[0]):\n",
    "    pred = counter(kNN(XY_train, X_train[i], 6))\n",
    "    if pred != Y_train[i]:\n",
    "        X_train_error += 1\n",
    "\n",
    "print(\"Accuracy of classifier on training dataset (k=6)\", 1-(X_train_error/np.shape(X_train)[0]))\n",
    "print(\"Accuracy of classifier on test dataset (k=6): \", 1-(X_test_error/np.shape(X_test)[0]))\n",
    "t2 = time.time()\n",
    "print(\"Testing k=6 nearest neighbors classifier completed in\", t2-t1, \"seconds\")"
   ]
  }
 ],
 "metadata": {
  "kernelspec": {
   "display_name": "Python 3",
   "language": "python",
   "name": "python3"
  },
  "language_info": {
   "codemirror_mode": {
    "name": "ipython",
    "version": 3
   },
   "file_extension": ".py",
   "mimetype": "text/x-python",
   "name": "python",
   "nbconvert_exporter": "python",
   "pygments_lexer": "ipython3",
   "version": "3.10.10"
  },
  "orig_nbformat": 4,
  "vscode": {
   "interpreter": {
    "hash": "f86e798ea2a6012f1c0b4e34d4c3a3f5524c8127c3bec897cc8d442a3c4c9a39"
   }
  }
 },
 "nbformat": 4,
 "nbformat_minor": 2
}
